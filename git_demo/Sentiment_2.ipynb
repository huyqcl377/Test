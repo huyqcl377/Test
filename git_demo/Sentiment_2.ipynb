{
  "nbformat": 4,
  "nbformat_minor": 0,
  "metadata": {
    "colab": {
      "provenance": []
    },
    "kernelspec": {
      "name": "python3",
      "display_name": "Python 3"
    },
    "language_info": {
      "name": "python"
    }
  },
  "cells": [
    {
      "cell_type": "code",
      "execution_count": 14,
      "metadata": {
        "id": "rYOmbOiHdT0A"
      },
      "outputs": [],
      "source": [
        "from textblob import TextBlob\n",
        "\n",
        "def analyze_sentiment(text):\n",
        "    blob = TextBlob(text)\n",
        "    polarity = blob.sentiment.polarity\n",
        "    if polarity > 0:\n",
        "        return \"Positive\"\n",
        "    else:\n",
        "        return \"Negative\"\n",
        "    # else:\n",
        "    #     return \"Neutral\""
      ]
    },
    {
      "cell_type": "code",
      "source": [
        "texts = [\"I really hate you\", \"Life is like a box of chocolates, you never know what you're going to get.\", \"I love this product! It's amazing.\"]\n",
        "\n",
        "for i, text in enumerate(texts):\n",
        "    sentiment = analyze_sentiment(text)\n",
        "    print(f\"Text {i + 1}: '{text}'\")\n",
        "    print(f\"Sentiment: {sentiment}\\n\")"
      ],
      "metadata": {
        "colab": {
          "base_uri": "https://localhost:8080/"
        },
        "id": "XR7uw86ydftH",
        "outputId": "cd8833f1-fadd-4639-ae7c-457db6aa60e4"
      },
      "execution_count": 15,
      "outputs": [
        {
          "output_type": "stream",
          "name": "stdout",
          "text": [
            "Text 1: 'I really hate you'\n",
            "Sentiment: Negative\n",
            "\n",
            "Text 2: 'Life is like a box of chocolates, you never know what you're going to get.'\n",
            "Sentiment: Negative\n",
            "\n",
            "Text 3: 'I love this product! It's amazing.'\n",
            "Sentiment: Positive\n",
            "\n"
          ]
        }
      ]
    },
    {
      "cell_type": "code",
      "source": [],
      "metadata": {
        "id": "3YmSHZ_ve95Q"
      },
      "execution_count": null,
      "outputs": []
    }
  ]
}